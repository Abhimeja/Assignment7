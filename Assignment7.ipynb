{
 "cells": [
  {
   "cell_type": "markdown",
   "id": "56519549-a3c1-4ce8-8a34-217dfdc3afec",
   "metadata": {},
   "source": [
    "Q1. Explain Class and Object with respect to Object-Oriented Programming. Give a suitable example.\n",
    "\n",
    "Ans--"
   ]
  },
  {
   "cell_type": "markdown",
   "id": "2a42ce5a-98a3-4f45-a0be-0ddb9b6f645c",
   "metadata": {},
   "source": [
    "In object-oriented programming (OOP), a class is a blueprint or a template that defines the characteristics (attributes) and behaviors (methods) \n",
    "of a particular type of object. It serves as a blueprint for creating instances of objects, which are individual entities based on that class.\n",
    "\n",
    "An object, on the other hand, is an instance of a class. It is a concrete, tangible representation of the abstract class. \n",
    "Objects have their own unique identity and can have different values for their attributes. They can also perform actions or behaviors defined by the\n",
    "class's methods.\n",
    "\n",
    "Here's an example to illustrate the concept of a class and an object:\n",
    "\n",
    "Class: Car\n",
    "Attributes:\n",
    "\n",
    "Make (e.g., Toyota, Honda)\n",
    "Model (e.g., Camry, Civic)\n",
    "Year (e.g., 2021, 2019)\n",
    "Color (e.g., red, blue)\n",
    "Methods:\n",
    "\n",
    "Start the engine\n",
    "Accelerate\n",
    "Brake\n",
    "Turn\n",
    "\n",
    "Object: MyCar\n",
    "Attributes:\n",
    "\n",
    "Make: Toyota\n",
    "Model: Camry\n",
    "Year: 2021\n",
    "Color: Blue\n",
    "Now, \"Car\" is the class, which defines the blueprint for creating car objects. \"MyCar\" is an object or instance of the \"Car\" class. It has specific attribute values, such as \"Make\" (Toyota), \"Model\" (Camry), \"Year\" (2021), and \"Color\" (Blue). Additionally, it can perform actions defined by the class's methods, like starting the engine, accelerating, braking, and turning.\n",
    "\n",
    "By defining classes and creating objects, OOP allows us to organize and model real-world entities, their attributes, and behaviors in a more structured and reusable manner.\n",
    "\n",
    "\n",
    "\n",
    "\n",
    "\n",
    "\n"
   ]
  },
  {
   "cell_type": "markdown",
   "id": "5b200799-e9b2-4dc4-a76f-4908267c75ac",
   "metadata": {},
   "source": [
    "Q2. Name the four pillars of OOPs.\n",
    "\n",
    "Ans--"
   ]
  },
  {
   "cell_type": "markdown",
   "id": "8dca2f3f-b1d8-42a0-9e6c-ae99ee276ab3",
   "metadata": {},
   "source": [
    "The four pillars of Object-Oriented Programming (OOP) are:\n",
    "\n",
    "1.Encapsulation: Encapsulation is the process of bundling data and the methods that operate on that data into a single unit called an object.\n",
    "It allows for the hiding of internal data and implementation details, providing access to the object's functionality through well-defined interfaces.\n",
    "Encapsulation helps in achieving data abstraction, security, and modularity.\n",
    "\n",
    "2.Inheritance: Inheritance is a mechanism that allows one class to inherit the properties (attributes and methods) of another class.\n",
    "The class that is being inherited from is called the superclass or base class, and the class that inherits is called the subclass or derived class.\n",
    "Inheritance promotes code reusability and allows for the creation of a hierarchy of classes, where the subclass inherits and extends the functionality\n",
    "of the superclass.\n",
    "\n",
    "3.Polymorphism: Polymorphism allows objects of different classes to be treated as objects of a common superclass. It refers to the ability of an object\n",
    "to take on many forms or have multiple behaviors. Polymorphism is achieved through method overriding and method overloading. Method overriding allows\n",
    "a subclass to provide a different implementation of a method already defined in its superclass, while method overloading allows multiple methods with\n",
    "the same name but different parameters to coexist in a class.\n",
    "\n",
    "4.Abstraction: Abstraction refers to the process of simplifying complex systems by representing only the essential features and hiding the unnecessary details. It allows programmers to focus on the relevant aspects of an object and ignore its implementation complexities. Abstraction is achieved through abstract classes and interfaces, which define a set of methods without providing their implementation. By using abstraction, you can create generic and reusable components that can be extended and implemented by subclasses to provide specific functionality."
   ]
  },
  {
   "cell_type": "markdown",
   "id": "2c33fdaa-1d17-4821-9d47-10d9d4d9a81a",
   "metadata": {},
   "source": [
    "Q3. Explain why the __init__() function is used. Give a suitable example.\n",
    "\n",
    "Ans--"
   ]
  },
  {
   "cell_type": "markdown",
   "id": "ca8d29b8-dcfd-4aa5-8a24-0e8b393abf97",
   "metadata": {},
   "source": [
    "The __init__() function is a special method in Python classes that is automatically called when an object is created from that class.\n",
    "It is used to initialize the attributes of the object and perform any necessary setup or configuration.\n",
    "\n",
    "The primary purpose of the __init__() function is to define and assign initial values to the instance variables of an object.\n",
    "These instance variables hold the state or data associated with the object. By setting initial values in the __init__() method,\n",
    "we ensure that the object starts with a well-defined state.\n",
    "\n",
    "Example to use of the __init__() function:"
   ]
  },
  {
   "cell_type": "code",
   "execution_count": 1,
   "id": "270b0d3c-7c10-4a7f-868d-c590090c7465",
   "metadata": {},
   "outputs": [],
   "source": [
    "class car:\n",
    "    def __init__(self,make,model,year):\n",
    "        self.make=make\n",
    "        self.model=model\n",
    "        self.year=year\n",
    "        self.mileage=0\n",
    "    def drive(self,distance):\n",
    "        self.mileage+=distance\n",
    "    def display_info(self):\n",
    "        print(f\"Make: {self.make}\")\n",
    "        print(f\"Model: {self.model}\")\n",
    "        print(f\"Year: {self.year}\")\n",
    "        print(f\"Mileage: {self.mileage} miles\")"
   ]
  },
  {
   "cell_type": "code",
   "execution_count": 2,
   "id": "c0d65c34-475e-4cf4-b25f-e338caf6a02a",
   "metadata": {},
   "outputs": [],
   "source": [
    "my_car=car(\"Toyota\",\"Camry\",2020)"
   ]
  },
  {
   "cell_type": "code",
   "execution_count": 3,
   "id": "824d1950-4f4b-4e5c-a2da-81eb225b313d",
   "metadata": {},
   "outputs": [
    {
     "name": "stdout",
     "output_type": "stream",
     "text": [
      "Make: Toyota\n",
      "Model: Camry\n",
      "Year: 2020\n",
      "Mileage: 0 miles\n"
     ]
    }
   ],
   "source": [
    "my_car.display_info()"
   ]
  },
  {
   "cell_type": "markdown",
   "id": "ac427d82-eafc-40a6-8b5b-edca1731a7aa",
   "metadata": {},
   "source": [
    "Q4. Why self is used in OOPs?\n",
    "\n",
    "Ans--"
   ]
  },
  {
   "cell_type": "markdown",
   "id": "1a95ff92-f42e-40ea-89b1-4e1ca01c6f60",
   "metadata": {},
   "source": [
    "In object-oriented programming (OOP), the \"self\" keyword is used to refer to the instance of a class within the class definition. It is a convention used in many object-oriented languages such as Python. The \"self\" keyword is not a reserved word in most languages, but it is a widely accepted convention to use \"self\" as the first parameter in instance methods.\n",
    "\n",
    "The purpose of \"self\" is to represent the instance of the class itself. When you create an object from a class, it becomes an instance of that class. Each instance has its own unique data and can perform actions defined by the class's methods. By using the \"self\" parameter in methods, you can access and manipulate the instance's attributes and perform operations on the instance itself."
   ]
  },
  {
   "cell_type": "markdown",
   "id": "e5ba69c3-63b2-4d09-b462-8b8ecabcb9f5",
   "metadata": {},
   "source": [
    "Q5. What is inheritance? Give an example for each type of inheritance.\n",
    "\n",
    "Ans--"
   ]
  },
  {
   "cell_type": "markdown",
   "id": "b9084f2f-295d-49f3-9c5a-6d7b6630d135",
   "metadata": {},
   "source": [
    "Inheritance is a fundamental concept in object-oriented programming (OOP) where a class inherits properties and behaviors from another class. The class that is being inherited from is called the \"parent\" or \"base\" class, and the class that inherits from it is called the \"child\" or \"derived\" class. Inheritance allows for code reuse, promotes modularity, and facilitates the creation of hierarchical relationships between classes.\n",
    "\n",
    "There are different types of inheritance:\n",
    "\n",
    "Single Inheritance: Single inheritance occurs when a class inherits properties and behaviors from a single parent class. The child class extends the functionality of the parent class.\n",
    "\n",
    "For example:"
   ]
  },
  {
   "cell_type": "code",
   "execution_count": 4,
   "id": "661981cf-cb4e-4744-b14e-6b1dfd9dd00e",
   "metadata": {},
   "outputs": [
    {
     "name": "stdout",
     "output_type": "stream",
     "text": [
      "Toyota\n",
      "Driving the vehicle.\n",
      "Honking the horn.\n"
     ]
    }
   ],
   "source": [
    "class Vehicle:\n",
    "    def __init__(self, brand):\n",
    "        self.brand = brand\n",
    "\n",
    "    def drive(self):\n",
    "        print(\"Driving the vehicle.\")\n",
    "\n",
    "class Car(Vehicle):\n",
    "    def __init__(self, brand, model):\n",
    "        super().__init__(brand)\n",
    "        self.model = model\n",
    "\n",
    "    def honk(self):\n",
    "        print(\"Honking the horn.\")\n",
    "\n",
    "my_car = Car(\"Toyota\", \"Camry\")\n",
    "print(my_car.brand) \n",
    "my_car.drive()      \n",
    "my_car.honk() \n"
   ]
  },
  {
   "cell_type": "markdown",
   "id": "7a8a0dff-7b2a-4919-b701-eb164ec9cfc2",
   "metadata": {},
   "source": [
    "2-Multiple Inheritance: Multiple inheritance occurs when a class inherits properties and behaviors from more than one parent class. The child class can access and use the attributes and methods from all the parent classes.\n",
    "\n",
    "For example:"
   ]
  },
  {
   "cell_type": "code",
   "execution_count": 5,
   "id": "54ca087c-cb57-4aa0-8f2b-29d7e600c9d4",
   "metadata": {},
   "outputs": [
    {
     "name": "stdout",
     "output_type": "stream",
     "text": [
      "Eating...\n",
      "Flying...\n",
      "Chirping...\n"
     ]
    }
   ],
   "source": [
    "class Animal:\n",
    "    def eat(self):\n",
    "        print(\"Eating...\")\n",
    "\n",
    "class Flyable:\n",
    "    def fly(self):\n",
    "        print(\"Flying...\")\n",
    "\n",
    "class Bird(Animal, Flyable):\n",
    "    def chirp(self):\n",
    "        print(\"Chirping...\")\n",
    "\n",
    "my_bird = Bird()\n",
    "my_bird.eat()   \n",
    "my_bird.fly()   \n",
    "my_bird.chirp() "
   ]
  },
  {
   "cell_type": "code",
   "execution_count": null,
   "id": "5d6346fd-eb8a-461d-930c-1075b169f0d2",
   "metadata": {},
   "outputs": [],
   "source": []
  }
 ],
 "metadata": {
  "kernelspec": {
   "display_name": "Python 3 (ipykernel)",
   "language": "python",
   "name": "python3"
  },
  "language_info": {
   "codemirror_mode": {
    "name": "ipython",
    "version": 3
   },
   "file_extension": ".py",
   "mimetype": "text/x-python",
   "name": "python",
   "nbconvert_exporter": "python",
   "pygments_lexer": "ipython3",
   "version": "3.10.8"
  }
 },
 "nbformat": 4,
 "nbformat_minor": 5
}
